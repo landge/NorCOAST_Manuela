{
 "cells": [
  {
   "cell_type": "markdown",
   "metadata": {},
   "source": [
    "# NorCoast analysis "
   ]
  },
  {
   "cell_type": "markdown",
   "metadata": {},
   "source": [
    "Import av python modules used for the analysis"
   ]
  },
  {
   "cell_type": "code",
   "execution_count": 88,
   "metadata": {},
   "outputs": [],
   "source": [
    "import pandas as pd\n",
    "import numpy as np\n",
    "import matplotlib.pyplot as plt\n",
    "from sklearn.tree import DecisionTreeClassifier\n",
    "from sklearn.tree import export_graphviz\n",
    "from sklearn.model_selection import train_test_split\n",
    "from sklearn.externals.six import StringIO\n",
    "from sklearn.metrics import accuracy_score\n",
    "from sklearn.metrics import brier_score_loss\n",
    "from sklearn.metrics import mean_squared_error\n",
    "from sklearn.ensemble import RandomForestClassifier\n",
    "import pydotplus as pydot\n",
    "import math\n",
    "import mglearn\n",
    "import seaborn as sns\n",
    "import xgboost as xgb"
   ]
  },
  {
   "cell_type": "markdown",
   "metadata": {},
   "source": [
    "Load csv file that contains MRI scoring data and clinical data like age, cognitive scoring and so on."
   ]
  },
  {
   "cell_type": "code",
   "execution_count": 89,
   "metadata": {},
   "outputs": [],
   "source": [
    "network_df = pd.read_csv('network_base.csv')"
   ]
  },
  {
   "cell_type": "markdown",
   "metadata": {},
   "source": [
    "Create list with features. One with and the other without age!"
   ]
  },
  {
   "cell_type": "code",
   "execution_count": 90,
   "metadata": {},
   "outputs": [],
   "source": [
    "select_columns_with_age = ['ID','MTA-pathology-yes','koedam_path','Evans_path','fazekas_path','Lacunes','MicroB','age_at_stroke']\n",
    "select_columns = ['ID','MTA-pathology-yes','koedam_path','Evans_path','fazekas_path','Lacunes','MicroB']\n",
    "value_columns= ['Lacunes', 'Fazekas', 'age_at_stroke', 'moca_sum', 'nihss_score_in', 'MTA-mean', 'Evans']\n",
    "pathology_columns = select_columns[1:]"
   ]
  },
  {
   "cell_type": "markdown",
   "metadata": {},
   "source": [
    "Handle some Nan and calculate sum of scores that are not contained in the clinical spreadsheet!"
   ]
  },
  {
   "cell_type": "code",
   "execution_count": 91,
   "metadata": {},
   "outputs": [],
   "source": [
    "network_df[select_columns] = network_df[select_columns].fillna(value=0).astype(int)"
   ]
  },
  {
   "cell_type": "code",
   "execution_count": 92,
   "metadata": {},
   "outputs": [],
   "source": [
    "network_df['sum_pathology'] = network_df[pathology_columns].sum(axis=1)"
   ]
  },
  {
   "cell_type": "code",
   "execution_count": 93,
   "metadata": {},
   "outputs": [],
   "source": [
    "network_df['network_group_id'] = network_df[pathology_columns].astype(str).apply(''.join, axis=1)"
   ]
  },
  {
   "cell_type": "code",
   "execution_count": 94,
   "metadata": {},
   "outputs": [],
   "source": [
    "network_df['Evans'] = round(network_df['Evans'], 2)"
   ]
  },
  {
   "cell_type": "code",
   "execution_count": 95,
   "metadata": {},
   "outputs": [],
   "source": [
    "network_df['AD8_sum'] = network_df.loc[:, network_df.columns.str.contains('AD8')].replace([2,3],0).sum(axis=1) "
   ]
  },
  {
   "cell_type": "markdown",
   "metadata": {},
   "source": [
    "Age is divided into bins to give clearer visualization!"
   ]
  },
  {
   "cell_type": "code",
   "execution_count": 96,
   "metadata": {},
   "outputs": [],
   "source": [
    "network_df['age_decade'] = pd.cut(network_df['age_at_stroke'], bins=[0,30,40,50,60,70,80,90,100], right=False)"
   ]
  },
  {
   "cell_type": "code",
   "execution_count": 97,
   "metadata": {},
   "outputs": [
    {
     "data": {
      "text/plain": [
       "<matplotlib.axes._subplots.AxesSubplot at 0x1c214a33c8>"
      ]
     },
     "execution_count": 97,
     "metadata": {},
     "output_type": "execute_result"
    },
    {
     "data": {
      "image/png": "[encoded data removed]",
      "text/plain": [
       "<Figure size 3600x720 with 1 Axes>"
      ]
     },
     "metadata": {},
     "output_type": "display_data"
    }
   ],
   "source": [
    "#network_df[select_columns]\n",
    "sns.countplot(pd.cut(network_df['age_at_stroke'], bins=[0,30,40,50,60,70,80,90,100], right=False))"
   ]
  },
  {
   "cell_type": "markdown",
   "metadata": {},
   "source": [
    "### Create GDS_path as binary variable from prestroke_GDS_T0 6 (prestroke_GDS_T0 of 1 is negative = 0; the rest is pathological = 1)"
   ]
  },
  {
   "cell_type": "code",
   "execution_count": 98,
   "metadata": {},
   "outputs": [],
   "source": [
    "network_df['GDS_path'] = network_df['prestroke_GDS_T0']"
   ]
  },
  {
   "cell_type": "code",
   "execution_count": 99,
   "metadata": {},
   "outputs": [],
   "source": [
    "network_df['GDS_path'].replace(1,0, inplace=True)"
   ]
  },
  {
   "cell_type": "code",
   "execution_count": 100,
   "metadata": {},
   "outputs": [],
   "source": [
    "network_df['GDS_path'].replace([2,3,4,5,6], 1, inplace=True)"
   ]
  },
  {
   "cell_type": "code",
   "execution_count": 101,
   "metadata": {},
   "outputs": [],
   "source": [
    "decision_df = network_df.loc[~network_df['prestroke_GDS_T0'].isnull()]"
   ]
  },
  {
   "cell_type": "markdown",
   "metadata": {},
   "source": [
    "Create feature matrix and label matrix without age!"
   ]
  },
  {
   "cell_type": "code",
   "execution_count": 102,
   "metadata": {},
   "outputs": [],
   "source": [
    "X = decision_df.loc[:, select_columns[1:]]\n",
    "y = decision_df.loc[:, 'GDS_path']"
   ]
  },
  {
   "cell_type": "markdown",
   "metadata": {},
   "source": [
    "Split feature and label matrix in train and test dataset!"
   ]
  },
  {
   "cell_type": "code",
   "execution_count": 103,
   "metadata": {},
   "outputs": [],
   "source": [
    "X_train, X_test, y_train, y_test = train_test_split(X, y, test_size=0.2, stratify=y, random_state=1)"
   ]
  },
  {
   "cell_type": "markdown",
   "metadata": {},
   "source": [
    "### Instantiate  Decision Tree classifier"
   ]
  },
  {
   "cell_type": "code",
   "execution_count": 104,
   "metadata": {},
   "outputs": [],
   "source": [
    "dt = DecisionTreeClassifier(max_depth=3)"
   ]
  },
  {
   "cell_type": "markdown",
   "metadata": {},
   "source": [
    "Fit model. "
   ]
  },
  {
   "cell_type": "code",
   "execution_count": 105,
   "metadata": {},
   "outputs": [
    {
     "data": {
      "text/plain": [
       "DecisionTreeClassifier(class_weight=None, criterion='gini', max_depth=3,\n",
       "            max_features=None, max_leaf_nodes=None,\n",
       "            min_impurity_decrease=0.0, min_impurity_split=None,\n",
       "            min_samples_leaf=1, min_samples_split=2,\n",
       "            min_weight_fraction_leaf=0.0, presort=False, random_state=None,\n",
       "            splitter='best')"
      ]
     },
     "execution_count": 105,
     "metadata": {},
     "output_type": "execute_result"
    }
   ],
   "source": [
    "dt.fit(X_train, y_train)"
   ]
  },
  {
   "cell_type": "markdown",
   "metadata": {},
   "source": [
    "Predict labels on test feature matrix and score perdictions"
   ]
  },
  {
   "cell_type": "code",
   "execution_count": 106,
   "metadata": {},
   "outputs": [],
   "source": [
    "y_pred = dt.predict(X_test)"
   ]
  },
  {
   "cell_type": "code",
   "execution_count": 107,
   "metadata": {},
   "outputs": [
    {
     "data": {
      "text/plain": [
       "0.7407407407407407"
      ]
     },
     "execution_count": 107,
     "metadata": {},
     "output_type": "execute_result"
    }
   ],
   "source": [
    "accuracy_score(y_test, y_pred)"
   ]
  },
  {
   "cell_type": "markdown",
   "metadata": {},
   "source": [
    "### Brier score"
   ]
  },
  {
   "cell_type": "code",
   "execution_count": 108,
   "metadata": {},
   "outputs": [
    {
     "data": {
      "text/plain": [
       "0.25925925925925924"
      ]
     },
     "execution_count": 108,
     "metadata": {},
     "output_type": "execute_result"
    }
   ],
   "source": [
    "brier_score_loss(y_test, y_pred)"
   ]
  },
  {
   "cell_type": "code",
   "execution_count": 109,
   "metadata": {},
   "outputs": [],
   "source": [
    "dot_data = StringIO"
   ]
  },
  {
   "cell_type": "code",
   "execution_count": 110,
   "metadata": {},
   "outputs": [],
   "source": [
    "import graphviz"
   ]
  },
  {
   "cell_type": "code",
   "execution_count": 111,
   "metadata": {},
   "outputs": [],
   "source": [
    "export_graphviz(dt, out_file='tree.dot', class_names=['GDS_normal','GDS_pathological'], feature_names=list(X), impurity=False, filled=True)"
   ]
  },
  {
   "cell_type": "markdown",
   "metadata": {},
   "source": [
    "### Plot Decision Tree"
   ]
  },
  {
   "cell_type": "code",
   "execution_count": 112,
   "metadata": {},
   "outputs": [
    {
     "data": {
      "image/svg+xml": [
       "<?xml version=\"1.0\" encoding=\"UTF-8\" standalone=\"no\"?>\n",
       "<!DOCTYPE svg PUBLIC \"-//W3C//DTD SVG 1.1//EN\"\n",
       " \"http://www.w3.org/Graphics/SVG/1.1/DTD/svg11.dtd\">\n",
       "<!-- Generated by graphviz version 2.38.0 (20140413.2041)\n",
       " -->\n",
       "<!-- Title: Tree Pages: 1 -->\n",
       "<svg width=\"1228pt\" height=\"358pt\"\n",
       " viewBox=\"0.00 0.00 1227.77 358.00\" xmlns=\"http://www.w3.org/2000/svg\" xmlns:xlink=\"http://www.w3.org/1999/xlink\">\n",
       "<g id=\"graph0\" class=\"graph\" transform=\"scale(1 1) rotate(0) translate(4 354)\">\n",
       "<title>Tree</title>\n",
       "<polygon fill=\"white\" stroke=\"none\" points=\"-4,4 -4,-354 1223.77,-354 1223.77,4 -4,4\"/>\n",
       "<!-- 0 -->\n",
       "<g id=\"node1\" class=\"node\"><title>0</title>\n",
       "<polygon fill=\"#e58139\" fill-opacity=\"0.560784\" stroke=\"black\" points=\"653.657,-350 521.114,-350 521.114,-286 653.657,-286 653.657,-350\"/>\n",
       "<text text-anchor=\"middle\" x=\"587.386\" y=\"-334.8\" font-family=\"Times,serif\" font-size=\"14.00\">Lacunes &lt;= 0.5</text>\n",
       "<text text-anchor=\"middle\" x=\"587.386\" y=\"-320.8\" font-family=\"Times,serif\" font-size=\"14.00\">samples = 324</text>\n",
       "<text text-anchor=\"middle\" x=\"587.386\" y=\"-306.8\" font-family=\"Times,serif\" font-size=\"14.00\">value = [225, 99]</text>\n",
       "<text text-anchor=\"middle\" x=\"587.386\" y=\"-292.8\" font-family=\"Times,serif\" font-size=\"14.00\">class = GDS_normal</text>\n",
       "</g>\n",
       "<!-- 1 -->\n",
       "<g id=\"node2\" class=\"node\"><title>1</title>\n",
       "<polygon fill=\"#e58139\" fill-opacity=\"0.725490\" stroke=\"black\" points=\"502.657,-250 370.114,-250 370.114,-186 502.657,-186 502.657,-250\"/>\n",
       "<text text-anchor=\"middle\" x=\"436.386\" y=\"-234.8\" font-family=\"Times,serif\" font-size=\"14.00\">fazekas_path &lt;= 0.5</text>\n",
       "<text text-anchor=\"middle\" x=\"436.386\" y=\"-220.8\" font-family=\"Times,serif\" font-size=\"14.00\">samples = 214</text>\n",
       "<text text-anchor=\"middle\" x=\"436.386\" y=\"-206.8\" font-family=\"Times,serif\" font-size=\"14.00\">value = [168, 46]</text>\n",
       "<text text-anchor=\"middle\" x=\"436.386\" y=\"-192.8\" font-family=\"Times,serif\" font-size=\"14.00\">class = GDS_normal</text>\n",
       "</g>\n",
       "<!-- 0&#45;&gt;1 -->\n",
       "<g id=\"edge1\" class=\"edge\"><title>0&#45;&gt;1</title>\n",
       "<path fill=\"none\" stroke=\"black\" d=\"M539.608,-285.992C524.736,-276.34 508.198,-265.606 492.794,-255.609\"/>\n",
       "<polygon fill=\"black\" stroke=\"black\" points=\"494.664,-252.651 484.371,-250.142 490.853,-258.522 494.664,-252.651\"/>\n",
       "<text text-anchor=\"middle\" x=\"489.575\" y=\"-270.395\" font-family=\"Times,serif\" font-size=\"14.00\">True</text>\n",
       "</g>\n",
       "<!-- 8 -->\n",
       "<g id=\"node9\" class=\"node\"><title>8</title>\n",
       "<polygon fill=\"#e58139\" fill-opacity=\"0.070588\" stroke=\"black\" points=\"819.657,-250 687.114,-250 687.114,-186 819.657,-186 819.657,-250\"/>\n",
       "<text text-anchor=\"middle\" x=\"753.386\" y=\"-234.8\" font-family=\"Times,serif\" font-size=\"14.00\">Evans_path &lt;= 0.5</text>\n",
       "<text text-anchor=\"middle\" x=\"753.386\" y=\"-220.8\" font-family=\"Times,serif\" font-size=\"14.00\">samples = 110</text>\n",
       "<text text-anchor=\"middle\" x=\"753.386\" y=\"-206.8\" font-family=\"Times,serif\" font-size=\"14.00\">value = [57, 53]</text>\n",
       "<text text-anchor=\"middle\" x=\"753.386\" y=\"-192.8\" font-family=\"Times,serif\" font-size=\"14.00\">class = GDS_normal</text>\n",
       "</g>\n",
       "<!-- 0&#45;&gt;8 -->\n",
       "<g id=\"edge8\" class=\"edge\"><title>0&#45;&gt;8</title>\n",
       "<path fill=\"none\" stroke=\"black\" d=\"M639.909,-285.992C656.41,-276.251 674.777,-265.408 691.844,-255.332\"/>\n",
       "<polygon fill=\"black\" stroke=\"black\" points=\"693.802,-258.24 700.634,-250.142 690.244,-252.212 693.802,-258.24\"/>\n",
       "<text text-anchor=\"middle\" x=\"694.398\" y=\"-270.152\" font-family=\"Times,serif\" font-size=\"14.00\">False</text>\n",
       "</g>\n",
       "<!-- 2 -->\n",
       "<g id=\"node3\" class=\"node\"><title>2</title>\n",
       "<polygon fill=\"#e58139\" fill-opacity=\"0.784314\" stroke=\"black\" points=\"283.657,-150 151.114,-150 151.114,-86 283.657,-86 283.657,-150\"/>\n",
       "<text text-anchor=\"middle\" x=\"217.386\" y=\"-134.8\" font-family=\"Times,serif\" font-size=\"14.00\">koedam_path &lt;= 0.5</text>\n",
       "<text text-anchor=\"middle\" x=\"217.386\" y=\"-120.8\" font-family=\"Times,serif\" font-size=\"14.00\">samples = 163</text>\n",
       "<text text-anchor=\"middle\" x=\"217.386\" y=\"-106.8\" font-family=\"Times,serif\" font-size=\"14.00\">value = [134, 29]</text>\n",
       "<text text-anchor=\"middle\" x=\"217.386\" y=\"-92.8\" font-family=\"Times,serif\" font-size=\"14.00\">class = GDS_normal</text>\n",
       "</g>\n",
       "<!-- 1&#45;&gt;2 -->\n",
       "<g id=\"edge2\" class=\"edge\"><title>1&#45;&gt;2</title>\n",
       "<path fill=\"none\" stroke=\"black\" d=\"M370.084,-187.331C345.86,-176.491 318.277,-164.148 293.281,-152.962\"/>\n",
       "<polygon fill=\"black\" stroke=\"black\" points=\"294.397,-149.627 283.84,-148.737 291.538,-156.017 294.397,-149.627\"/>\n",
       "</g>\n",
       "<!-- 5 -->\n",
       "<g id=\"node6\" class=\"node\"><title>5</title>\n",
       "<polygon fill=\"#e58139\" fill-opacity=\"0.498039\" stroke=\"black\" points=\"502.657,-150 370.114,-150 370.114,-86 502.657,-86 502.657,-150\"/>\n",
       "<text text-anchor=\"middle\" x=\"436.386\" y=\"-134.8\" font-family=\"Times,serif\" font-size=\"14.00\">Evans_path &lt;= 0.5</text>\n",
       "<text text-anchor=\"middle\" x=\"436.386\" y=\"-120.8\" font-family=\"Times,serif\" font-size=\"14.00\">samples = 51</text>\n",
       "<text text-anchor=\"middle\" x=\"436.386\" y=\"-106.8\" font-family=\"Times,serif\" font-size=\"14.00\">value = [34, 17]</text>\n",
       "<text text-anchor=\"middle\" x=\"436.386\" y=\"-92.8\" font-family=\"Times,serif\" font-size=\"14.00\">class = GDS_normal</text>\n",
       "</g>\n",
       "<!-- 1&#45;&gt;5 -->\n",
       "<g id=\"edge5\" class=\"edge\"><title>1&#45;&gt;5</title>\n",
       "<path fill=\"none\" stroke=\"black\" d=\"M436.386,-185.992C436.386,-177.859 436.386,-168.959 436.386,-160.378\"/>\n",
       "<polygon fill=\"black\" stroke=\"black\" points=\"439.886,-160.142 436.386,-150.142 432.886,-160.142 439.886,-160.142\"/>\n",
       "</g>\n",
       "<!-- 3 -->\n",
       "<g id=\"node4\" class=\"node\"><title>3</title>\n",
       "<polygon fill=\"#e58139\" fill-opacity=\"0.800000\" stroke=\"black\" points=\"132.657,-50 0.114061,-50 0.114061,-0 132.657,-0 132.657,-50\"/>\n",
       "<text text-anchor=\"middle\" x=\"66.3857\" y=\"-34.8\" font-family=\"Times,serif\" font-size=\"14.00\">samples = 149</text>\n",
       "<text text-anchor=\"middle\" x=\"66.3857\" y=\"-20.8\" font-family=\"Times,serif\" font-size=\"14.00\">value = [124, 25]</text>\n",
       "<text text-anchor=\"middle\" x=\"66.3857\" y=\"-6.8\" font-family=\"Times,serif\" font-size=\"14.00\">class = GDS_normal</text>\n",
       "</g>\n",
       "<!-- 2&#45;&gt;3 -->\n",
       "<g id=\"edge3\" class=\"edge\"><title>2&#45;&gt;3</title>\n",
       "<path fill=\"none\" stroke=\"black\" d=\"M165.842,-85.9375C149.407,-76.0324 131.281,-65.109 115.056,-55.3308\"/>\n",
       "<polygon fill=\"black\" stroke=\"black\" points=\"116.631,-52.194 106.26,-50.0301 113.018,-58.1895 116.631,-52.194\"/>\n",
       "</g>\n",
       "<!-- 4 -->\n",
       "<g id=\"node5\" class=\"node\"><title>4</title>\n",
       "<polygon fill=\"#e58139\" fill-opacity=\"0.600000\" stroke=\"black\" points=\"283.657,-50 151.114,-50 151.114,-0 283.657,-0 283.657,-50\"/>\n",
       "<text text-anchor=\"middle\" x=\"217.386\" y=\"-34.8\" font-family=\"Times,serif\" font-size=\"14.00\">samples = 14</text>\n",
       "<text text-anchor=\"middle\" x=\"217.386\" y=\"-20.8\" font-family=\"Times,serif\" font-size=\"14.00\">value = [10, 4]</text>\n",
       "<text text-anchor=\"middle\" x=\"217.386\" y=\"-6.8\" font-family=\"Times,serif\" font-size=\"14.00\">class = GDS_normal</text>\n",
       "</g>\n",
       "<!-- 2&#45;&gt;4 -->\n",
       "<g id=\"edge4\" class=\"edge\"><title>2&#45;&gt;4</title>\n",
       "<path fill=\"none\" stroke=\"black\" d=\"M217.386,-85.9375C217.386,-77.6833 217.386,-68.7219 217.386,-60.3053\"/>\n",
       "<polygon fill=\"black\" stroke=\"black\" points=\"220.886,-60.03 217.386,-50.0301 213.886,-60.0301 220.886,-60.03\"/>\n",
       "</g>\n",
       "<!-- 6 -->\n",
       "<g id=\"node7\" class=\"node\"><title>6</title>\n",
       "<polygon fill=\"#e58139\" fill-opacity=\"0.223529\" stroke=\"black\" points=\"434.657,-50 302.114,-50 302.114,-0 434.657,-0 434.657,-50\"/>\n",
       "<text text-anchor=\"middle\" x=\"368.386\" y=\"-34.8\" font-family=\"Times,serif\" font-size=\"14.00\">samples = 32</text>\n",
       "<text text-anchor=\"middle\" x=\"368.386\" y=\"-20.8\" font-family=\"Times,serif\" font-size=\"14.00\">value = [18, 14]</text>\n",
       "<text text-anchor=\"middle\" x=\"368.386\" y=\"-6.8\" font-family=\"Times,serif\" font-size=\"14.00\">class = GDS_normal</text>\n",
       "</g>\n",
       "<!-- 5&#45;&gt;6 -->\n",
       "<g id=\"edge6\" class=\"edge\"><title>5&#45;&gt;6</title>\n",
       "<path fill=\"none\" stroke=\"black\" d=\"M413.174,-85.9375C406.458,-76.9496 399.115,-67.1231 392.354,-58.0747\"/>\n",
       "<polygon fill=\"black\" stroke=\"black\" points=\"395.132,-55.9456 386.342,-50.0301 389.525,-60.1357 395.132,-55.9456\"/>\n",
       "</g>\n",
       "<!-- 7 -->\n",
       "<g id=\"node8\" class=\"node\"><title>7</title>\n",
       "<polygon fill=\"#e58139\" fill-opacity=\"0.811765\" stroke=\"black\" points=\"585.657,-50 453.114,-50 453.114,-0 585.657,-0 585.657,-50\"/>\n",
       "<text text-anchor=\"middle\" x=\"519.386\" y=\"-34.8\" font-family=\"Times,serif\" font-size=\"14.00\">samples = 19</text>\n",
       "<text text-anchor=\"middle\" x=\"519.386\" y=\"-20.8\" font-family=\"Times,serif\" font-size=\"14.00\">value = [16, 3]</text>\n",
       "<text text-anchor=\"middle\" x=\"519.386\" y=\"-6.8\" font-family=\"Times,serif\" font-size=\"14.00\">class = GDS_normal</text>\n",
       "</g>\n",
       "<!-- 5&#45;&gt;7 -->\n",
       "<g id=\"edge7\" class=\"edge\"><title>5&#45;&gt;7</title>\n",
       "<path fill=\"none\" stroke=\"black\" d=\"M464.717,-85.9375C473.083,-76.7661 482.244,-66.7217 490.635,-57.5217\"/>\n",
       "<polygon fill=\"black\" stroke=\"black\" points=\"493.315,-59.7771 497.468,-50.0301 488.143,-55.0599 493.315,-59.7771\"/>\n",
       "</g>\n",
       "<!-- 9 -->\n",
       "<g id=\"node10\" class=\"node\"><title>9</title>\n",
       "<polygon fill=\"#399de5\" fill-opacity=\"0.243137\" stroke=\"black\" points=\"834.702,-150 672.069,-150 672.069,-86 834.702,-86 834.702,-150\"/>\n",
       "<text text-anchor=\"middle\" x=\"753.386\" y=\"-134.8\" font-family=\"Times,serif\" font-size=\"14.00\">fazekas_path &lt;= 0.5</text>\n",
       "<text text-anchor=\"middle\" x=\"753.386\" y=\"-120.8\" font-family=\"Times,serif\" font-size=\"14.00\">samples = 58</text>\n",
       "<text text-anchor=\"middle\" x=\"753.386\" y=\"-106.8\" font-family=\"Times,serif\" font-size=\"14.00\">value = [25, 33]</text>\n",
       "<text text-anchor=\"middle\" x=\"753.386\" y=\"-92.8\" font-family=\"Times,serif\" font-size=\"14.00\">class = GDS_pathological</text>\n",
       "</g>\n",
       "<!-- 8&#45;&gt;9 -->\n",
       "<g id=\"edge9\" class=\"edge\"><title>8&#45;&gt;9</title>\n",
       "<path fill=\"none\" stroke=\"black\" d=\"M753.386,-185.992C753.386,-177.859 753.386,-168.959 753.386,-160.378\"/>\n",
       "<polygon fill=\"black\" stroke=\"black\" points=\"756.886,-160.142 753.386,-150.142 749.886,-160.142 756.886,-160.142\"/>\n",
       "</g>\n",
       "<!-- 12 -->\n",
       "<g id=\"node13\" class=\"node\"><title>12</title>\n",
       "<polygon fill=\"#e58139\" fill-opacity=\"0.376471\" stroke=\"black\" points=\"1068.66,-150 936.114,-150 936.114,-86 1068.66,-86 1068.66,-150\"/>\n",
       "<text text-anchor=\"middle\" x=\"1002.39\" y=\"-134.8\" font-family=\"Times,serif\" font-size=\"14.00\">fazekas_path &lt;= 0.5</text>\n",
       "<text text-anchor=\"middle\" x=\"1002.39\" y=\"-120.8\" font-family=\"Times,serif\" font-size=\"14.00\">samples = 52</text>\n",
       "<text text-anchor=\"middle\" x=\"1002.39\" y=\"-106.8\" font-family=\"Times,serif\" font-size=\"14.00\">value = [32, 20]</text>\n",
       "<text text-anchor=\"middle\" x=\"1002.39\" y=\"-92.8\" font-family=\"Times,serif\" font-size=\"14.00\">class = GDS_normal</text>\n",
       "</g>\n",
       "<!-- 8&#45;&gt;12 -->\n",
       "<g id=\"edge12\" class=\"edge\"><title>8&#45;&gt;12</title>\n",
       "<path fill=\"none\" stroke=\"black\" d=\"M819.786,-190.867C852.576,-177.961 892.297,-162.328 926.308,-148.942\"/>\n",
       "<polygon fill=\"black\" stroke=\"black\" points=\"927.715,-152.15 935.738,-145.231 925.151,-145.636 927.715,-152.15\"/>\n",
       "</g>\n",
       "<!-- 10 -->\n",
       "<g id=\"node11\" class=\"node\"><title>10</title>\n",
       "<polygon fill=\"#e58139\" fill-opacity=\"0.090196\" stroke=\"black\" points=\"736.657,-50 604.114,-50 604.114,-0 736.657,-0 736.657,-50\"/>\n",
       "<text text-anchor=\"middle\" x=\"670.386\" y=\"-34.8\" font-family=\"Times,serif\" font-size=\"14.00\">samples = 21</text>\n",
       "<text text-anchor=\"middle\" x=\"670.386\" y=\"-20.8\" font-family=\"Times,serif\" font-size=\"14.00\">value = [11, 10]</text>\n",
       "<text text-anchor=\"middle\" x=\"670.386\" y=\"-6.8\" font-family=\"Times,serif\" font-size=\"14.00\">class = GDS_normal</text>\n",
       "</g>\n",
       "<!-- 9&#45;&gt;10 -->\n",
       "<g id=\"edge10\" class=\"edge\"><title>9&#45;&gt;10</title>\n",
       "<path fill=\"none\" stroke=\"black\" d=\"M725.054,-85.9375C716.689,-76.7661 707.528,-66.7217 699.136,-57.5217\"/>\n",
       "<polygon fill=\"black\" stroke=\"black\" points=\"701.628,-55.0599 692.303,-50.0301 696.456,-59.7771 701.628,-55.0599\"/>\n",
       "</g>\n",
       "<!-- 11 -->\n",
       "<g id=\"node12\" class=\"node\"><title>11</title>\n",
       "<polygon fill=\"#399de5\" fill-opacity=\"0.392157\" stroke=\"black\" points=\"917.702,-50 755.069,-50 755.069,-0 917.702,-0 917.702,-50\"/>\n",
       "<text text-anchor=\"middle\" x=\"836.386\" y=\"-34.8\" font-family=\"Times,serif\" font-size=\"14.00\">samples = 37</text>\n",
       "<text text-anchor=\"middle\" x=\"836.386\" y=\"-20.8\" font-family=\"Times,serif\" font-size=\"14.00\">value = [14, 23]</text>\n",
       "<text text-anchor=\"middle\" x=\"836.386\" y=\"-6.8\" font-family=\"Times,serif\" font-size=\"14.00\">class = GDS_pathological</text>\n",
       "</g>\n",
       "<!-- 9&#45;&gt;11 -->\n",
       "<g id=\"edge11\" class=\"edge\"><title>9&#45;&gt;11</title>\n",
       "<path fill=\"none\" stroke=\"black\" d=\"M781.717,-85.9375C790.083,-76.7661 799.244,-66.7217 807.635,-57.5217\"/>\n",
       "<polygon fill=\"black\" stroke=\"black\" points=\"810.315,-59.7771 814.468,-50.0301 805.143,-55.0599 810.315,-59.7771\"/>\n",
       "</g>\n",
       "<!-- 13 -->\n",
       "<g id=\"node14\" class=\"node\"><title>13</title>\n",
       "<polygon fill=\"#e58139\" fill-opacity=\"0.462745\" stroke=\"black\" points=\"1068.66,-50 936.114,-50 936.114,-0 1068.66,-0 1068.66,-50\"/>\n",
       "<text text-anchor=\"middle\" x=\"1002.39\" y=\"-34.8\" font-family=\"Times,serif\" font-size=\"14.00\">samples = 20</text>\n",
       "<text text-anchor=\"middle\" x=\"1002.39\" y=\"-20.8\" font-family=\"Times,serif\" font-size=\"14.00\">value = [13, 7]</text>\n",
       "<text text-anchor=\"middle\" x=\"1002.39\" y=\"-6.8\" font-family=\"Times,serif\" font-size=\"14.00\">class = GDS_normal</text>\n",
       "</g>\n",
       "<!-- 12&#45;&gt;13 -->\n",
       "<g id=\"edge13\" class=\"edge\"><title>12&#45;&gt;13</title>\n",
       "<path fill=\"none\" stroke=\"black\" d=\"M1002.39,-85.9375C1002.39,-77.6833 1002.39,-68.7219 1002.39,-60.3053\"/>\n",
       "<polygon fill=\"black\" stroke=\"black\" points=\"1005.89,-60.03 1002.39,-50.0301 998.886,-60.0301 1005.89,-60.03\"/>\n",
       "</g>\n",
       "<!-- 14 -->\n",
       "<g id=\"node15\" class=\"node\"><title>14</title>\n",
       "<polygon fill=\"#e58139\" fill-opacity=\"0.317647\" stroke=\"black\" points=\"1219.66,-50 1087.11,-50 1087.11,-0 1219.66,-0 1219.66,-50\"/>\n",
       "<text text-anchor=\"middle\" x=\"1153.39\" y=\"-34.8\" font-family=\"Times,serif\" font-size=\"14.00\">samples = 32</text>\n",
       "<text text-anchor=\"middle\" x=\"1153.39\" y=\"-20.8\" font-family=\"Times,serif\" font-size=\"14.00\">value = [19, 13]</text>\n",
       "<text text-anchor=\"middle\" x=\"1153.39\" y=\"-6.8\" font-family=\"Times,serif\" font-size=\"14.00\">class = GDS_normal</text>\n",
       "</g>\n",
       "<!-- 12&#45;&gt;14 -->\n",
       "<g id=\"edge14\" class=\"edge\"><title>12&#45;&gt;14</title>\n",
       "<path fill=\"none\" stroke=\"black\" d=\"M1053.93,-85.9375C1070.36,-76.0324 1088.49,-65.109 1104.72,-55.3308\"/>\n",
       "<polygon fill=\"black\" stroke=\"black\" points=\"1106.75,-58.1895 1113.51,-50.0301 1103.14,-52.194 1106.75,-58.1895\"/>\n",
       "</g>\n",
       "</g>\n",
       "</svg>\n"
      ],
      "text/plain": [
       "<graphviz.files.Source at 0x1c1801a438>"
      ]
     },
     "metadata": {},
     "output_type": "display_data"
    }
   ],
   "source": [
    "with open('tree.dot') as f:\n",
    "    dot_graph = f.read()\n",
    "display(graphviz.Source(dot_graph))"
   ]
  },
  {
   "cell_type": "markdown",
   "metadata": {},
   "source": [
    "### Plot feature importance"
   ]
  },
  {
   "cell_type": "code",
   "execution_count": 113,
   "metadata": {},
   "outputs": [
    {
     "data": {
      "text/plain": [
       "<matplotlib.axes._subplots.AxesSubplot at 0x10b083908>"
      ]
     },
     "execution_count": 113,
     "metadata": {},
     "output_type": "execute_result"
    },
    {
     "data": {
      "image/png": "[encoded data removed]",
      "text/plain": [
       "<Figure size 3600x720 with 1 Axes>"
      ]
     },
     "metadata": {},
     "output_type": "display_data"
    }
   ],
   "source": [
    "sns.barplot(x=select_columns[1:], y=dt.feature_importances_)\n"
   ]
  },
  {
   "cell_type": "code",
   "execution_count": 114,
   "metadata": {},
   "outputs": [
    {
     "name": "stdout",
     "output_type": "stream",
     "text": [
      "[0.         0.02099643 0.21987806 0.14871577 0.61040975 0.        ]\n"
     ]
    }
   ],
   "source": [
    "print(dt.feature_importances_)"
   ]
  },
  {
   "cell_type": "markdown",
   "metadata": {},
   "source": [
    "## Same Decision tree, but this time with age in the feature matrix"
   ]
  },
  {
   "cell_type": "code",
   "execution_count": 115,
   "metadata": {},
   "outputs": [],
   "source": [
    "X_age = decision_df.loc[:, select_columns_with_age[1:]]"
   ]
  },
  {
   "cell_type": "code",
   "execution_count": 116,
   "metadata": {},
   "outputs": [],
   "source": [
    "X_age_train, X_age_test, y_train, y_test = train_test_split(X_age, y, test_size=0.2, stratify=y, random_state=1)"
   ]
  },
  {
   "cell_type": "code",
   "execution_count": 117,
   "metadata": {},
   "outputs": [],
   "source": [
    "dt = DecisionTreeClassifier(max_depth=3)"
   ]
  },
  {
   "cell_type": "code",
   "execution_count": 118,
   "metadata": {},
   "outputs": [
    {
     "data": {
      "text/plain": [
       "DecisionTreeClassifier(class_weight=None, criterion='gini', max_depth=3,\n",
       "            max_features=None, max_leaf_nodes=None,\n",
       "            min_impurity_decrease=0.0, min_impurity_split=None,\n",
       "            min_samples_leaf=1, min_samples_split=2,\n",
       "            min_weight_fraction_leaf=0.0, presort=False, random_state=None,\n",
       "            splitter='best')"
      ]
     },
     "execution_count": 118,
     "metadata": {},
     "output_type": "execute_result"
    }
   ],
   "source": [
    "dt.fit(X_age_train, y_train)"
   ]
  },
  {
   "cell_type": "code",
   "execution_count": 119,
   "metadata": {},
   "outputs": [],
   "source": [
    "y_pred = dt.predict(X_age_test)"
   ]
  },
  {
   "cell_type": "code",
   "execution_count": 120,
   "metadata": {},
   "outputs": [
    {
     "data": {
      "text/plain": [
       "0.4444444444444444"
      ]
     },
     "execution_count": 120,
     "metadata": {},
     "output_type": "execute_result"
    }
   ],
   "source": [
    "brier_score_loss(y_test, y_pred)"
   ]
  },
  {
   "cell_type": "code",
   "execution_count": 121,
   "metadata": {},
   "outputs": [],
   "source": [
    "export_graphviz(dt, out_file='tree.dot', class_names=['GDS_normal','GDS_pathological'], feature_names=list(X_age), impurity=False, filled=True)"
   ]
  },
  {
   "cell_type": "code",
   "execution_count": 122,
   "metadata": {},
   "outputs": [
    {
     "data": {
      "image/svg+xml": [
       "<?xml version=\"1.0\" encoding=\"UTF-8\" standalone=\"no\"?>\n",
       "<!DOCTYPE svg PUBLIC \"-//W3C//DTD SVG 1.1//EN\"\n",
       " \"http://www.w3.org/Graphics/SVG/1.1/DTD/svg11.dtd\">\n",
       "<!-- Generated by graphviz version 2.38.0 (20140413.2041)\n",
       " -->\n",
       "<!-- Title: Tree Pages: 1 -->\n",
       "<svg width=\"1287pt\" height=\"358pt\"\n",
       " viewBox=\"0.00 0.00 1286.54 358.00\" xmlns=\"http://www.w3.org/2000/svg\" xmlns:xlink=\"http://www.w3.org/1999/xlink\">\n",
       "<g id=\"graph0\" class=\"graph\" transform=\"scale(1 1) rotate(0) translate(4 354)\">\n",
       "<title>Tree</title>\n",
       "<polygon fill=\"white\" stroke=\"none\" points=\"-4,4 -4,-354 1282.54,-354 1282.54,4 -4,4\"/>\n",
       "<!-- 0 -->\n",
       "<g id=\"node1\" class=\"node\"><title>0</title>\n",
       "<polygon fill=\"#e58139\" fill-opacity=\"0.560784\" stroke=\"black\" points=\"636.922,-350 495.85,-350 495.85,-286 636.922,-286 636.922,-350\"/>\n",
       "<text text-anchor=\"middle\" x=\"566.386\" y=\"-334.8\" font-family=\"Times,serif\" font-size=\"14.00\">age_at_stroke &lt;= 79.5</text>\n",
       "<text text-anchor=\"middle\" x=\"566.386\" y=\"-320.8\" font-family=\"Times,serif\" font-size=\"14.00\">samples = 324</text>\n",
       "<text text-anchor=\"middle\" x=\"566.386\" y=\"-306.8\" font-family=\"Times,serif\" font-size=\"14.00\">value = [225, 99]</text>\n",
       "<text text-anchor=\"middle\" x=\"566.386\" y=\"-292.8\" font-family=\"Times,serif\" font-size=\"14.00\">class = GDS_normal</text>\n",
       "</g>\n",
       "<!-- 1 -->\n",
       "<g id=\"node2\" class=\"node\"><title>1</title>\n",
       "<polygon fill=\"#e58139\" fill-opacity=\"0.768627\" stroke=\"black\" points=\"514.657,-250 382.114,-250 382.114,-186 514.657,-186 514.657,-250\"/>\n",
       "<text text-anchor=\"middle\" x=\"448.386\" y=\"-234.8\" font-family=\"Times,serif\" font-size=\"14.00\">Lacunes &lt;= 0.5</text>\n",
       "<text text-anchor=\"middle\" x=\"448.386\" y=\"-220.8\" font-family=\"Times,serif\" font-size=\"14.00\">samples = 224</text>\n",
       "<text text-anchor=\"middle\" x=\"448.386\" y=\"-206.8\" font-family=\"Times,serif\" font-size=\"14.00\">value = [182, 42]</text>\n",
       "<text text-anchor=\"middle\" x=\"448.386\" y=\"-192.8\" font-family=\"Times,serif\" font-size=\"14.00\">class = GDS_normal</text>\n",
       "</g>\n",
       "<!-- 0&#45;&gt;1 -->\n",
       "<g id=\"edge1\" class=\"edge\"><title>0&#45;&gt;1</title>\n",
       "<path fill=\"none\" stroke=\"black\" d=\"M529.05,-285.992C517.858,-276.698 505.459,-266.4 493.807,-256.723\"/>\n",
       "<polygon fill=\"black\" stroke=\"black\" points=\"495.813,-253.839 485.884,-250.142 491.341,-259.224 495.813,-253.839\"/>\n",
       "<text text-anchor=\"middle\" x=\"488.189\" y=\"-270.836\" font-family=\"Times,serif\" font-size=\"14.00\">True</text>\n",
       "</g>\n",
       "<!-- 8 -->\n",
       "<g id=\"node9\" class=\"node\"><title>8</title>\n",
       "<polygon fill=\"#399de5\" fill-opacity=\"0.247059\" stroke=\"black\" points=\"849.702,-250 687.069,-250 687.069,-186 849.702,-186 849.702,-250\"/>\n",
       "<text text-anchor=\"middle\" x=\"768.386\" y=\"-234.8\" font-family=\"Times,serif\" font-size=\"14.00\">age_at_stroke &lt;= 84.5</text>\n",
       "<text text-anchor=\"middle\" x=\"768.386\" y=\"-220.8\" font-family=\"Times,serif\" font-size=\"14.00\">samples = 100</text>\n",
       "<text text-anchor=\"middle\" x=\"768.386\" y=\"-206.8\" font-family=\"Times,serif\" font-size=\"14.00\">value = [43, 57]</text>\n",
       "<text text-anchor=\"middle\" x=\"768.386\" y=\"-192.8\" font-family=\"Times,serif\" font-size=\"14.00\">class = GDS_pathological</text>\n",
       "</g>\n",
       "<!-- 0&#45;&gt;8 -->\n",
       "<g id=\"edge8\" class=\"edge\"><title>0&#45;&gt;8</title>\n",
       "<path fill=\"none\" stroke=\"black\" d=\"M630.3,-285.992C650.84,-276.027 673.756,-264.91 694.925,-254.64\"/>\n",
       "<polygon fill=\"black\" stroke=\"black\" points=\"696.725,-257.656 704.194,-250.142 693.669,-251.358 696.725,-257.656\"/>\n",
       "<text text-anchor=\"middle\" x=\"696.006\" y=\"-269.563\" font-family=\"Times,serif\" font-size=\"14.00\">False</text>\n",
       "</g>\n",
       "<!-- 2 -->\n",
       "<g id=\"node3\" class=\"node\"><title>2</title>\n",
       "<polygon fill=\"#e58139\" fill-opacity=\"0.886275\" stroke=\"black\" points=\"287.922,-150 146.85,-150 146.85,-86 287.922,-86 287.922,-150\"/>\n",
       "<text text-anchor=\"middle\" x=\"217.386\" y=\"-134.8\" font-family=\"Times,serif\" font-size=\"14.00\">age_at_stroke &lt;= 68.5</text>\n",
       "<text text-anchor=\"middle\" x=\"217.386\" y=\"-120.8\" font-family=\"Times,serif\" font-size=\"14.00\">samples = 157</text>\n",
       "<text text-anchor=\"middle\" x=\"217.386\" y=\"-106.8\" font-family=\"Times,serif\" font-size=\"14.00\">value = [141, 16]</text>\n",
       "<text text-anchor=\"middle\" x=\"217.386\" y=\"-92.8\" font-family=\"Times,serif\" font-size=\"14.00\">class = GDS_normal</text>\n",
       "</g>\n",
       "<!-- 1&#45;&gt;2 -->\n",
       "<g id=\"edge2\" class=\"edge\"><title>1&#45;&gt;2</title>\n",
       "<path fill=\"none\" stroke=\"black\" d=\"M381.881,-188.786C355.536,-177.609 325.017,-164.662 297.473,-152.976\"/>\n",
       "<polygon fill=\"black\" stroke=\"black\" points=\"298.829,-149.75 288.256,-149.066 296.095,-156.194 298.829,-149.75\"/>\n",
       "</g>\n",
       "<!-- 5 -->\n",
       "<g id=\"node6\" class=\"node\"><title>5</title>\n",
       "<polygon fill=\"#e58139\" fill-opacity=\"0.364706\" stroke=\"black\" points=\"518.922,-150 377.85,-150 377.85,-86 518.922,-86 518.922,-150\"/>\n",
       "<text text-anchor=\"middle\" x=\"448.386\" y=\"-134.8\" font-family=\"Times,serif\" font-size=\"14.00\">age_at_stroke &lt;= 67.5</text>\n",
       "<text text-anchor=\"middle\" x=\"448.386\" y=\"-120.8\" font-family=\"Times,serif\" font-size=\"14.00\">samples = 67</text>\n",
       "<text text-anchor=\"middle\" x=\"448.386\" y=\"-106.8\" font-family=\"Times,serif\" font-size=\"14.00\">value = [41, 26]</text>\n",
       "<text text-anchor=\"middle\" x=\"448.386\" y=\"-92.8\" font-family=\"Times,serif\" font-size=\"14.00\">class = GDS_normal</text>\n",
       "</g>\n",
       "<!-- 1&#45;&gt;5 -->\n",
       "<g id=\"edge5\" class=\"edge\"><title>1&#45;&gt;5</title>\n",
       "<path fill=\"none\" stroke=\"black\" d=\"M448.386,-185.992C448.386,-177.859 448.386,-168.959 448.386,-160.378\"/>\n",
       "<polygon fill=\"black\" stroke=\"black\" points=\"451.886,-160.142 448.386,-150.142 444.886,-160.142 451.886,-160.142\"/>\n",
       "</g>\n",
       "<!-- 3 -->\n",
       "<g id=\"node4\" class=\"node\"><title>3</title>\n",
       "<polygon fill=\"#e58139\" fill-opacity=\"0.960784\" stroke=\"black\" points=\"132.657,-50 0.114061,-50 0.114061,-0 132.657,-0 132.657,-50\"/>\n",
       "<text text-anchor=\"middle\" x=\"66.3857\" y=\"-34.8\" font-family=\"Times,serif\" font-size=\"14.00\">samples = 78</text>\n",
       "<text text-anchor=\"middle\" x=\"66.3857\" y=\"-20.8\" font-family=\"Times,serif\" font-size=\"14.00\">value = [75, 3]</text>\n",
       "<text text-anchor=\"middle\" x=\"66.3857\" y=\"-6.8\" font-family=\"Times,serif\" font-size=\"14.00\">class = GDS_normal</text>\n",
       "</g>\n",
       "<!-- 2&#45;&gt;3 -->\n",
       "<g id=\"edge3\" class=\"edge\"><title>2&#45;&gt;3</title>\n",
       "<path fill=\"none\" stroke=\"black\" d=\"M165.842,-85.9375C149.407,-76.0324 131.281,-65.109 115.056,-55.3308\"/>\n",
       "<polygon fill=\"black\" stroke=\"black\" points=\"116.631,-52.194 106.26,-50.0301 113.018,-58.1895 116.631,-52.194\"/>\n",
       "</g>\n",
       "<!-- 4 -->\n",
       "<g id=\"node5\" class=\"node\"><title>4</title>\n",
       "<polygon fill=\"#e58139\" fill-opacity=\"0.803922\" stroke=\"black\" points=\"283.657,-50 151.114,-50 151.114,-0 283.657,-0 283.657,-50\"/>\n",
       "<text text-anchor=\"middle\" x=\"217.386\" y=\"-34.8\" font-family=\"Times,serif\" font-size=\"14.00\">samples = 79</text>\n",
       "<text text-anchor=\"middle\" x=\"217.386\" y=\"-20.8\" font-family=\"Times,serif\" font-size=\"14.00\">value = [66, 13]</text>\n",
       "<text text-anchor=\"middle\" x=\"217.386\" y=\"-6.8\" font-family=\"Times,serif\" font-size=\"14.00\">class = GDS_normal</text>\n",
       "</g>\n",
       "<!-- 2&#45;&gt;4 -->\n",
       "<g id=\"edge4\" class=\"edge\"><title>2&#45;&gt;4</title>\n",
       "<path fill=\"none\" stroke=\"black\" d=\"M217.386,-85.9375C217.386,-77.6833 217.386,-68.7219 217.386,-60.3053\"/>\n",
       "<polygon fill=\"black\" stroke=\"black\" points=\"220.886,-60.03 217.386,-50.0301 213.886,-60.0301 220.886,-60.03\"/>\n",
       "</g>\n",
       "<!-- 6 -->\n",
       "<g id=\"node7\" class=\"node\"><title>6</title>\n",
       "<polygon fill=\"#e58139\" fill-opacity=\"0.858824\" stroke=\"black\" points=\"434.657,-50 302.114,-50 302.114,-0 434.657,-0 434.657,-50\"/>\n",
       "<text text-anchor=\"middle\" x=\"368.386\" y=\"-34.8\" font-family=\"Times,serif\" font-size=\"14.00\">samples = 16</text>\n",
       "<text text-anchor=\"middle\" x=\"368.386\" y=\"-20.8\" font-family=\"Times,serif\" font-size=\"14.00\">value = [14, 2]</text>\n",
       "<text text-anchor=\"middle\" x=\"368.386\" y=\"-6.8\" font-family=\"Times,serif\" font-size=\"14.00\">class = GDS_normal</text>\n",
       "</g>\n",
       "<!-- 5&#45;&gt;6 -->\n",
       "<g id=\"edge6\" class=\"edge\"><title>5&#45;&gt;6</title>\n",
       "<path fill=\"none\" stroke=\"black\" d=\"M421.078,-85.9375C413.096,-76.8578 404.362,-66.9225 396.34,-57.798\"/>\n",
       "<polygon fill=\"black\" stroke=\"black\" points=\"398.742,-55.2296 389.511,-50.0301 393.485,-59.8514 398.742,-55.2296\"/>\n",
       "</g>\n",
       "<!-- 7 -->\n",
       "<g id=\"node8\" class=\"node\"><title>7</title>\n",
       "<polygon fill=\"#e58139\" fill-opacity=\"0.109804\" stroke=\"black\" points=\"585.657,-50 453.114,-50 453.114,-0 585.657,-0 585.657,-50\"/>\n",
       "<text text-anchor=\"middle\" x=\"519.386\" y=\"-34.8\" font-family=\"Times,serif\" font-size=\"14.00\">samples = 51</text>\n",
       "<text text-anchor=\"middle\" x=\"519.386\" y=\"-20.8\" font-family=\"Times,serif\" font-size=\"14.00\">value = [27, 24]</text>\n",
       "<text text-anchor=\"middle\" x=\"519.386\" y=\"-6.8\" font-family=\"Times,serif\" font-size=\"14.00\">class = GDS_normal</text>\n",
       "</g>\n",
       "<!-- 5&#45;&gt;7 -->\n",
       "<g id=\"edge7\" class=\"edge\"><title>5&#45;&gt;7</title>\n",
       "<path fill=\"none\" stroke=\"black\" d=\"M472.621,-85.9375C479.634,-76.9496 487.301,-67.1231 494.36,-58.0747\"/>\n",
       "<polygon fill=\"black\" stroke=\"black\" points=\"497.245,-60.0673 500.637,-50.0301 491.726,-55.7613 497.245,-60.0673\"/>\n",
       "</g>\n",
       "<!-- 9 -->\n",
       "<g id=\"node10\" class=\"node\"><title>9</title>\n",
       "<polygon fill=\"#e58139\" fill-opacity=\"0.074510\" stroke=\"black\" points=\"834.657,-150 702.114,-150 702.114,-86 834.657,-86 834.657,-150\"/>\n",
       "<text text-anchor=\"middle\" x=\"768.386\" y=\"-134.8\" font-family=\"Times,serif\" font-size=\"14.00\">MicroB &lt;= 0.5</text>\n",
       "<text text-anchor=\"middle\" x=\"768.386\" y=\"-120.8\" font-family=\"Times,serif\" font-size=\"14.00\">samples = 52</text>\n",
       "<text text-anchor=\"middle\" x=\"768.386\" y=\"-106.8\" font-family=\"Times,serif\" font-size=\"14.00\">value = [27, 25]</text>\n",
       "<text text-anchor=\"middle\" x=\"768.386\" y=\"-92.8\" font-family=\"Times,serif\" font-size=\"14.00\">class = GDS_normal</text>\n",
       "</g>\n",
       "<!-- 8&#45;&gt;9 -->\n",
       "<g id=\"edge9\" class=\"edge\"><title>8&#45;&gt;9</title>\n",
       "<path fill=\"none\" stroke=\"black\" d=\"M768.386,-185.992C768.386,-177.859 768.386,-168.959 768.386,-160.378\"/>\n",
       "<polygon fill=\"black\" stroke=\"black\" points=\"771.886,-160.142 768.386,-150.142 764.886,-160.142 771.886,-160.142\"/>\n",
       "</g>\n",
       "<!-- 12 -->\n",
       "<g id=\"node13\" class=\"node\"><title>12</title>\n",
       "<polygon fill=\"#399de5\" fill-opacity=\"0.498039\" stroke=\"black\" points=\"1098.7,-150 936.069,-150 936.069,-86 1098.7,-86 1098.7,-150\"/>\n",
       "<text text-anchor=\"middle\" x=\"1017.39\" y=\"-134.8\" font-family=\"Times,serif\" font-size=\"14.00\">age_at_stroke &lt;= 93.5</text>\n",
       "<text text-anchor=\"middle\" x=\"1017.39\" y=\"-120.8\" font-family=\"Times,serif\" font-size=\"14.00\">samples = 48</text>\n",
       "<text text-anchor=\"middle\" x=\"1017.39\" y=\"-106.8\" font-family=\"Times,serif\" font-size=\"14.00\">value = [16, 32]</text>\n",
       "<text text-anchor=\"middle\" x=\"1017.39\" y=\"-92.8\" font-family=\"Times,serif\" font-size=\"14.00\">class = GDS_pathological</text>\n",
       "</g>\n",
       "<!-- 8&#45;&gt;12 -->\n",
       "<g id=\"edge12\" class=\"edge\"><title>8&#45;&gt;12</title>\n",
       "<path fill=\"none\" stroke=\"black\" d=\"M847.171,-185.992C873.171,-175.759 902.26,-164.31 928.934,-153.813\"/>\n",
       "<polygon fill=\"black\" stroke=\"black\" points=\"930.235,-157.062 938.258,-150.142 927.671,-150.548 930.235,-157.062\"/>\n",
       "</g>\n",
       "<!-- 10 -->\n",
       "<g id=\"node11\" class=\"node\"><title>10</title>\n",
       "<polygon fill=\"#399de5\" fill-opacity=\"0.094118\" stroke=\"black\" points=\"766.702,-50 604.069,-50 604.069,-0 766.702,-0 766.702,-50\"/>\n",
       "<text text-anchor=\"middle\" x=\"685.386\" y=\"-34.8\" font-family=\"Times,serif\" font-size=\"14.00\">samples = 40</text>\n",
       "<text text-anchor=\"middle\" x=\"685.386\" y=\"-20.8\" font-family=\"Times,serif\" font-size=\"14.00\">value = [19, 21]</text>\n",
       "<text text-anchor=\"middle\" x=\"685.386\" y=\"-6.8\" font-family=\"Times,serif\" font-size=\"14.00\">class = GDS_pathological</text>\n",
       "</g>\n",
       "<!-- 9&#45;&gt;10 -->\n",
       "<g id=\"edge10\" class=\"edge\"><title>9&#45;&gt;10</title>\n",
       "<path fill=\"none\" stroke=\"black\" d=\"M740.054,-85.9375C731.689,-76.7661 722.528,-66.7217 714.136,-57.5217\"/>\n",
       "<polygon fill=\"black\" stroke=\"black\" points=\"716.628,-55.0599 707.303,-50.0301 711.456,-59.7771 716.628,-55.0599\"/>\n",
       "</g>\n",
       "<!-- 11 -->\n",
       "<g id=\"node12\" class=\"node\"><title>11</title>\n",
       "<polygon fill=\"#e58139\" fill-opacity=\"0.498039\" stroke=\"black\" points=\"917.657,-50 785.114,-50 785.114,-0 917.657,-0 917.657,-50\"/>\n",
       "<text text-anchor=\"middle\" x=\"851.386\" y=\"-34.8\" font-family=\"Times,serif\" font-size=\"14.00\">samples = 12</text>\n",
       "<text text-anchor=\"middle\" x=\"851.386\" y=\"-20.8\" font-family=\"Times,serif\" font-size=\"14.00\">value = [8, 4]</text>\n",
       "<text text-anchor=\"middle\" x=\"851.386\" y=\"-6.8\" font-family=\"Times,serif\" font-size=\"14.00\">class = GDS_normal</text>\n",
       "</g>\n",
       "<!-- 9&#45;&gt;11 -->\n",
       "<g id=\"edge11\" class=\"edge\"><title>9&#45;&gt;11</title>\n",
       "<path fill=\"none\" stroke=\"black\" d=\"M796.717,-85.9375C805.083,-76.7661 814.244,-66.7217 822.635,-57.5217\"/>\n",
       "<polygon fill=\"black\" stroke=\"black\" points=\"825.315,-59.7771 829.468,-50.0301 820.143,-55.0599 825.315,-59.7771\"/>\n",
       "</g>\n",
       "<!-- 13 -->\n",
       "<g id=\"node14\" class=\"node\"><title>13</title>\n",
       "<polygon fill=\"#399de5\" fill-opacity=\"0.427451\" stroke=\"black\" points=\"1098.7,-50 936.069,-50 936.069,-0 1098.7,-0 1098.7,-50\"/>\n",
       "<text text-anchor=\"middle\" x=\"1017.39\" y=\"-34.8\" font-family=\"Times,serif\" font-size=\"14.00\">samples = 44</text>\n",
       "<text text-anchor=\"middle\" x=\"1017.39\" y=\"-20.8\" font-family=\"Times,serif\" font-size=\"14.00\">value = [16, 28]</text>\n",
       "<text text-anchor=\"middle\" x=\"1017.39\" y=\"-6.8\" font-family=\"Times,serif\" font-size=\"14.00\">class = GDS_pathological</text>\n",
       "</g>\n",
       "<!-- 12&#45;&gt;13 -->\n",
       "<g id=\"edge13\" class=\"edge\"><title>12&#45;&gt;13</title>\n",
       "<path fill=\"none\" stroke=\"black\" d=\"M1017.39,-85.9375C1017.39,-77.6833 1017.39,-68.7219 1017.39,-60.3053\"/>\n",
       "<polygon fill=\"black\" stroke=\"black\" points=\"1020.89,-60.03 1017.39,-50.0301 1013.89,-60.0301 1020.89,-60.03\"/>\n",
       "</g>\n",
       "<!-- 14 -->\n",
       "<g id=\"node15\" class=\"node\"><title>14</title>\n",
       "<polygon fill=\"#399de5\" stroke=\"black\" points=\"1278.7,-50 1116.07,-50 1116.07,-0 1278.7,-0 1278.7,-50\"/>\n",
       "<text text-anchor=\"middle\" x=\"1197.39\" y=\"-34.8\" font-family=\"Times,serif\" font-size=\"14.00\">samples = 4</text>\n",
       "<text text-anchor=\"middle\" x=\"1197.39\" y=\"-20.8\" font-family=\"Times,serif\" font-size=\"14.00\">value = [0, 4]</text>\n",
       "<text text-anchor=\"middle\" x=\"1197.39\" y=\"-6.8\" font-family=\"Times,serif\" font-size=\"14.00\">class = GDS_pathological</text>\n",
       "</g>\n",
       "<!-- 12&#45;&gt;14 -->\n",
       "<g id=\"edge14\" class=\"edge\"><title>12&#45;&gt;14</title>\n",
       "<path fill=\"none\" stroke=\"black\" d=\"M1078.83,-85.9375C1098.87,-75.8031 1121.03,-64.6027 1140.71,-54.6537\"/>\n",
       "<polygon fill=\"black\" stroke=\"black\" points=\"1142.51,-57.6654 1149.85,-50.0301 1139.35,-51.4184 1142.51,-57.6654\"/>\n",
       "</g>\n",
       "</g>\n",
       "</svg>\n"
      ],
      "text/plain": [
       "<graphviz.files.Source at 0x1c1bcbae48>"
      ]
     },
     "metadata": {},
     "output_type": "display_data"
    }
   ],
   "source": [
    "with open('tree.dot') as f:\n",
    "    dot_graph = f.read()\n",
    "display(graphviz.Source(dot_graph))"
   ]
  },
  {
   "cell_type": "code",
   "execution_count": 123,
   "metadata": {},
   "outputs": [
    {
     "data": {
      "image/png": "[encoded data removed]",
      "text/plain": [
       "<Figure size 3600x720 with 1 Axes>"
      ]
     },
     "metadata": {},
     "output_type": "display_data"
    }
   ],
   "source": [
    "sns.barplot(x=select_columns_with_age[1:], y=dt.feature_importances_)\n",
    "plt.show()"
   ]
  },
  {
   "cell_type": "markdown",
   "metadata": {},
   "source": [
    "## Random Forest Classifier "
   ]
  },
  {
   "cell_type": "code",
   "execution_count": 124,
   "metadata": {},
   "outputs": [],
   "source": [
    "random_forrest = RandomForestClassifier(max_depth=4)"
   ]
  },
  {
   "cell_type": "code",
   "execution_count": 125,
   "metadata": {},
   "outputs": [
    {
     "data": {
      "text/plain": [
       "RandomForestClassifier(bootstrap=True, class_weight=None, criterion='gini',\n",
       "            max_depth=4, max_features='auto', max_leaf_nodes=None,\n",
       "            min_impurity_decrease=0.0, min_impurity_split=None,\n",
       "            min_samples_leaf=1, min_samples_split=2,\n",
       "            min_weight_fraction_leaf=0.0, n_estimators=10, n_jobs=1,\n",
       "            oob_score=False, random_state=None, verbose=0,\n",
       "            warm_start=False)"
      ]
     },
     "execution_count": 125,
     "metadata": {},
     "output_type": "execute_result"
    }
   ],
   "source": [
    "random_forrest.fit(X_train, y_train)"
   ]
  },
  {
   "cell_type": "code",
   "execution_count": 126,
   "metadata": {},
   "outputs": [],
   "source": [
    "y_predict = random_forrest.predict(X_test)"
   ]
  },
  {
   "cell_type": "code",
   "execution_count": 127,
   "metadata": {},
   "outputs": [
    {
     "data": {
      "text/plain": [
       "0.7160493827160493"
      ]
     },
     "execution_count": 127,
     "metadata": {},
     "output_type": "execute_result"
    }
   ],
   "source": [
    "accuracy_score(y_predict, y_test)"
   ]
  },
  {
   "cell_type": "code",
   "execution_count": 128,
   "metadata": {},
   "outputs": [
    {
     "data": {
      "text/plain": [
       "0.2839506172839506"
      ]
     },
     "execution_count": 128,
     "metadata": {},
     "output_type": "execute_result"
    }
   ],
   "source": [
    "brier_score_loss(y_predict, y_test)"
   ]
  },
  {
   "cell_type": "markdown",
   "metadata": {},
   "source": [
    "## XGBoost"
   ]
  },
  {
   "cell_type": "code",
   "execution_count": 129,
   "metadata": {},
   "outputs": [],
   "source": [
    "# fig, axes = plt.subplots(2,3)"
   ]
  },
  {
   "cell_type": "code",
   "execution_count": 145,
   "metadata": {},
   "outputs": [],
   "source": [
    "data_matrix = xgb.DMatrix(data=X, label=y)"
   ]
  },
  {
   "cell_type": "code",
   "execution_count": 146,
   "metadata": {},
   "outputs": [],
   "source": [
    "xgb_classifier = xgb.XGBClassifier(objective='binary:logistic', colsample_bytree=0.8, learning_rate=0.1, max_depth=4, alpha=10, n_estimators=10)"
   ]
  },
  {
   "cell_type": "code",
   "execution_count": 147,
   "metadata": {},
   "outputs": [
    {
     "data": {
      "text/plain": [
       "XGBClassifier(alpha=10, base_score=0.5, booster='gbtree', colsample_bylevel=1,\n",
       "       colsample_bytree=0.8, gamma=0, learning_rate=0.1, max_delta_step=0,\n",
       "       max_depth=4, min_child_weight=1, missing=None, n_estimators=10,\n",
       "       n_jobs=1, nthread=None, objective='binary:logistic', random_state=0,\n",
       "       reg_alpha=0, reg_lambda=1, scale_pos_weight=1, seed=None,\n",
       "       silent=True, subsample=1)"
      ]
     },
     "execution_count": 147,
     "metadata": {},
     "output_type": "execute_result"
    }
   ],
   "source": [
    "xgb_classifier.fit(X_train, y_train)"
   ]
  },
  {
   "cell_type": "code",
   "execution_count": 148,
   "metadata": {},
   "outputs": [
    {
     "name": "stderr",
     "output_type": "stream",
     "text": [
      "/Users/tillschellhorn/miniconda3/lib/python3.6/site-packages/sklearn/preprocessing/label.py:151: DeprecationWarning: The truth value of an empty array is ambiguous. Returning False, but in future this will result in an error. Use `array.size > 0` to check that an array is not empty.\n",
      "  if diff:\n"
     ]
    }
   ],
   "source": [
    "pred = xgb_classifier.predict(X_test)"
   ]
  },
  {
   "cell_type": "code",
   "execution_count": 149,
   "metadata": {},
   "outputs": [],
   "source": [
    "rmse = np.sqrt(mean_squared_error(y_test, pred))"
   ]
  },
  {
   "cell_type": "code",
   "execution_count": 150,
   "metadata": {},
   "outputs": [
    {
     "data": {
      "text/plain": [
       "0.49690399499995325"
      ]
     },
     "execution_count": 150,
     "metadata": {},
     "output_type": "execute_result"
    }
   ],
   "source": [
    "rmse"
   ]
  },
  {
   "cell_type": "code",
   "execution_count": 151,
   "metadata": {},
   "outputs": [
    {
     "data": {
      "text/plain": [
       "0.7530864197530864"
      ]
     },
     "execution_count": 151,
     "metadata": {},
     "output_type": "execute_result"
    }
   ],
   "source": [
    "accuracy_score(y_test, pred)"
   ]
  },
  {
   "cell_type": "code",
   "execution_count": 152,
   "metadata": {},
   "outputs": [
    {
     "data": {
      "text/plain": [
       "0.24691358024691357"
      ]
     },
     "execution_count": 152,
     "metadata": {},
     "output_type": "execute_result"
    }
   ],
   "source": [
    "brier_score_loss(y_test, pred)"
   ]
  },
  {
   "cell_type": "code",
   "execution_count": 153,
   "metadata": {},
   "outputs": [
    {
     "data": {
      "image/png": "[encoded data removed]",
      "text/plain": [
       "<Figure size 3600x720 with 1 Axes>"
      ]
     },
     "metadata": {},
     "output_type": "display_data"
    }
   ],
   "source": [
    "xgb.plot_tree(xgb_classifier, num_trees=0)\n",
    "plt.rcParams['figure.figsize'] = [50,10]\n",
    "plt.show()"
   ]
  },
  {
   "cell_type": "code",
   "execution_count": 154,
   "metadata": {},
   "outputs": [
    {
     "data": {
      "image/png": "[encoded data removed]",
      "text/plain": [
       "<Figure size 3600x720 with 1 Axes>"
      ]
     },
     "metadata": {},
     "output_type": "display_data"
    }
   ],
   "source": [
    "xgb.plot_importance(xgb_classifier)\n",
    "plt.rcParams['figure.figsize'] = [50,10]\n",
    "plt.show()"
   ]
  },
  {
   "cell_type": "code",
   "execution_count": 158,
   "metadata": {},
   "outputs": [],
   "source": [
    "params = {'objective':'binary:logistic', 'colsample_bytree':0.8, 'learning_rate':0.1, 'max_depth':4, 'alpha':10, 'n_estimators':100} "
   ]
  },
  {
   "cell_type": "code",
   "execution_count": 159,
   "metadata": {},
   "outputs": [
    {
     "name": "stdout",
     "output_type": "stream",
     "text": [
      "[09:06:52] src/tree/updater_prune.cc:74: tree pruning end, 1 roots, 2 extra nodes, 0 pruned nodes, max_depth=1\n",
      "[09:06:52] src/tree/updater_prune.cc:74: tree pruning end, 1 roots, 2 extra nodes, 0 pruned nodes, max_depth=1\n",
      "[09:06:52] src/tree/updater_prune.cc:74: tree pruning end, 1 roots, 2 extra nodes, 0 pruned nodes, max_depth=1\n",
      "[09:06:52] src/tree/updater_prune.cc:74: tree pruning end, 1 roots, 2 extra nodes, 0 pruned nodes, max_depth=1\n",
      "[09:06:52] src/tree/updater_prune.cc:74: tree pruning end, 1 roots, 2 extra nodes, 0 pruned nodes, max_depth=1\n",
      "[09:06:52] src/tree/updater_prune.cc:74: tree pruning end, 1 roots, 0 extra nodes, 0 pruned nodes, max_depth=0\n",
      "[09:06:52] src/tree/updater_prune.cc:74: tree pruning end, 1 roots, 2 extra nodes, 0 pruned nodes, max_depth=1\n",
      "[09:06:52] src/tree/updater_prune.cc:74: tree pruning end, 1 roots, 2 extra nodes, 0 pruned nodes, max_depth=1\n",
      "[09:06:52] src/tree/updater_prune.cc:74: tree pruning end, 1 roots, 2 extra nodes, 0 pruned nodes, max_depth=1\n",
      "[09:06:52] src/tree/updater_prune.cc:74: tree pruning end, 1 roots, 2 extra nodes, 0 pruned nodes, max_depth=1\n",
      "[09:06:52] src/tree/updater_prune.cc:74: tree pruning end, 1 roots, 2 extra nodes, 0 pruned nodes, max_depth=1\n",
      "[09:06:52] src/tree/updater_prune.cc:74: tree pruning end, 1 roots, 2 extra nodes, 0 pruned nodes, max_depth=1\n",
      "[09:06:52] src/tree/updater_prune.cc:74: tree pruning end, 1 roots, 2 extra nodes, 0 pruned nodes, max_depth=1\n",
      "[09:06:52] src/tree/updater_prune.cc:74: tree pruning end, 1 roots, 2 extra nodes, 0 pruned nodes, max_depth=1\n",
      "[09:06:52] src/tree/updater_prune.cc:74: tree pruning end, 1 roots, 0 extra nodes, 0 pruned nodes, max_depth=0\n",
      "[09:06:52] src/tree/updater_prune.cc:74: tree pruning end, 1 roots, 2 extra nodes, 0 pruned nodes, max_depth=1\n",
      "[09:06:52] src/tree/updater_prune.cc:74: tree pruning end, 1 roots, 2 extra nodes, 0 pruned nodes, max_depth=1\n",
      "[09:06:52] src/tree/updater_prune.cc:74: tree pruning end, 1 roots, 2 extra nodes, 0 pruned nodes, max_depth=1\n",
      "[09:06:52] src/tree/updater_prune.cc:74: tree pruning end, 1 roots, 2 extra nodes, 0 pruned nodes, max_depth=1\n",
      "[09:06:52] src/tree/updater_prune.cc:74: tree pruning end, 1 roots, 2 extra nodes, 0 pruned nodes, max_depth=1\n",
      "[09:06:52] src/tree/updater_prune.cc:74: tree pruning end, 1 roots, 2 extra nodes, 0 pruned nodes, max_depth=1\n",
      "[09:06:52] src/tree/updater_prune.cc:74: tree pruning end, 1 roots, 2 extra nodes, 0 pruned nodes, max_depth=1\n",
      "[09:06:52] src/tree/updater_prune.cc:74: tree pruning end, 1 roots, 2 extra nodes, 0 pruned nodes, max_depth=1\n",
      "[09:06:52] src/tree/updater_prune.cc:74: tree pruning end, 1 roots, 2 extra nodes, 0 pruned nodes, max_depth=1\n",
      "[09:06:52] src/tree/updater_prune.cc:74: tree pruning end, 1 roots, 2 extra nodes, 0 pruned nodes, max_depth=1\n",
      "[09:06:52] src/tree/updater_prune.cc:74: tree pruning end, 1 roots, 2 extra nodes, 0 pruned nodes, max_depth=1\n",
      "[09:06:52] src/tree/updater_prune.cc:74: tree pruning end, 1 roots, 2 extra nodes, 0 pruned nodes, max_depth=1\n",
      "[09:06:52] src/tree/updater_prune.cc:74: tree pruning end, 1 roots, 2 extra nodes, 0 pruned nodes, max_depth=1\n",
      "[09:06:52] src/tree/updater_prune.cc:74: tree pruning end, 1 roots, 2 extra nodes, 0 pruned nodes, max_depth=1\n",
      "[09:06:52] src/tree/updater_prune.cc:74: tree pruning end, 1 roots, 0 extra nodes, 0 pruned nodes, max_depth=0\n",
      "[09:06:52] src/tree/updater_prune.cc:74: tree pruning end, 1 roots, 2 extra nodes, 0 pruned nodes, max_depth=1\n",
      "[09:06:52] src/tree/updater_prune.cc:74: tree pruning end, 1 roots, 0 extra nodes, 0 pruned nodes, max_depth=0\n",
      "[09:06:52] src/tree/updater_prune.cc:74: tree pruning end, 1 roots, 2 extra nodes, 0 pruned nodes, max_depth=1\n",
      "[09:06:52] src/tree/updater_prune.cc:74: tree pruning end, 1 roots, 2 extra nodes, 0 pruned nodes, max_depth=1\n",
      "[09:06:52] src/tree/updater_prune.cc:74: tree pruning end, 1 roots, 2 extra nodes, 0 pruned nodes, max_depth=1\n",
      "[09:06:52] src/tree/updater_prune.cc:74: tree pruning end, 1 roots, 2 extra nodes, 0 pruned nodes, max_depth=1\n",
      "[09:06:52] src/tree/updater_prune.cc:74: tree pruning end, 1 roots, 2 extra nodes, 0 pruned nodes, max_depth=1\n",
      "[09:06:52] src/tree/updater_prune.cc:74: tree pruning end, 1 roots, 2 extra nodes, 0 pruned nodes, max_depth=1\n",
      "[09:06:52] src/tree/updater_prune.cc:74: tree pruning end, 1 roots, 2 extra nodes, 0 pruned nodes, max_depth=1\n",
      "[09:06:52] src/tree/updater_prune.cc:74: tree pruning end, 1 roots, 2 extra nodes, 0 pruned nodes, max_depth=1\n",
      "[09:06:52] src/tree/updater_prune.cc:74: tree pruning end, 1 roots, 0 extra nodes, 0 pruned nodes, max_depth=0\n",
      "[09:06:52] src/tree/updater_prune.cc:74: tree pruning end, 1 roots, 2 extra nodes, 0 pruned nodes, max_depth=1\n",
      "[09:06:52] src/tree/updater_prune.cc:74: tree pruning end, 1 roots, 2 extra nodes, 0 pruned nodes, max_depth=1\n",
      "[09:06:52] src/tree/updater_prune.cc:74: tree pruning end, 1 roots, 2 extra nodes, 0 pruned nodes, max_depth=1\n",
      "[09:06:52] src/tree/updater_prune.cc:74: tree pruning end, 1 roots, 2 extra nodes, 0 pruned nodes, max_depth=1\n",
      "[09:06:52] src/tree/updater_prune.cc:74: tree pruning end, 1 roots, 2 extra nodes, 0 pruned nodes, max_depth=1\n",
      "[09:06:52] src/tree/updater_prune.cc:74: tree pruning end, 1 roots, 2 extra nodes, 0 pruned nodes, max_depth=1\n",
      "[09:06:52] src/tree/updater_prune.cc:74: tree pruning end, 1 roots, 2 extra nodes, 0 pruned nodes, max_depth=1\n",
      "[09:06:52] src/tree/updater_prune.cc:74: tree pruning end, 1 roots, 2 extra nodes, 0 pruned nodes, max_depth=1\n",
      "[09:06:52] src/tree/updater_prune.cc:74: tree pruning end, 1 roots, 2 extra nodes, 0 pruned nodes, max_depth=1\n",
      "[09:06:52] src/tree/updater_prune.cc:74: tree pruning end, 1 roots, 2 extra nodes, 0 pruned nodes, max_depth=1\n",
      "[09:06:52] src/tree/updater_prune.cc:74: tree pruning end, 1 roots, 2 extra nodes, 0 pruned nodes, max_depth=1\n",
      "[09:06:52] src/tree/updater_prune.cc:74: tree pruning end, 1 roots, 2 extra nodes, 0 pruned nodes, max_depth=1\n",
      "[09:06:52] src/tree/updater_prune.cc:74: tree pruning end, 1 roots, 2 extra nodes, 0 pruned nodes, max_depth=1\n",
      "[09:06:52] src/tree/updater_prune.cc:74: tree pruning end, 1 roots, 0 extra nodes, 0 pruned nodes, max_depth=0\n"
     ]
    }
   ],
   "source": [
    "cv_results = xgb.cv(dtrain=data_matrix, params=params, nfold=5, num_boost_round=50, early_stopping_rounds=10, metrics=\"error\", as_pandas=True, seed=123)"
   ]
  },
  {
   "cell_type": "code",
   "execution_count": 160,
   "metadata": {},
   "outputs": [
    {
     "data": {
      "text/html": [
       "<div>\n",
       "<style scoped>\n",
       "    .dataframe tbody tr th:only-of-type {\n",
       "        vertical-align: middle;\n",
       "    }\n",
       "\n",
       "    .dataframe tbody tr th {\n",
       "        vertical-align: top;\n",
       "    }\n",
       "\n",
       "    .dataframe thead th {\n",
       "        text-align: right;\n",
       "    }\n",
       "</style>\n",
       "<table border=\"1\" class=\"dataframe\">\n",
       "  <thead>\n",
       "    <tr style=\"text-align: right;\">\n",
       "      <th></th>\n",
       "      <th>train-error-mean</th>\n",
       "      <th>train-error-std</th>\n",
       "      <th>test-error-mean</th>\n",
       "      <th>test-error-std</th>\n",
       "    </tr>\n",
       "  </thead>\n",
       "  <tbody>\n",
       "    <tr>\n",
       "      <th>0</th>\n",
       "      <td>0.306173</td>\n",
       "      <td>0.007905</td>\n",
       "      <td>0.306173</td>\n",
       "      <td>0.03162</td>\n",
       "    </tr>\n",
       "  </tbody>\n",
       "</table>\n",
       "</div>"
      ],
      "text/plain": [
       "   train-error-mean  train-error-std  test-error-mean  test-error-std\n",
       "0          0.306173         0.007905         0.306173         0.03162"
      ]
     },
     "execution_count": 160,
     "metadata": {},
     "output_type": "execute_result"
    }
   ],
   "source": [
    "cv_results.head()"
   ]
  },
  {
   "cell_type": "code",
   "execution_count": null,
   "metadata": {},
   "outputs": [],
   "source": []
  }
 ],
 "metadata": {
  "kernelspec": {
   "display_name": "Python 3",
   "language": "python",
   "name": "python3"
  },
  "language_info": {
   "codemirror_mode": {
    "name": "ipython",
    "version": 3
   },
   "file_extension": ".py",
   "mimetype": "text/x-python",
   "name": "python",
   "nbconvert_exporter": "python",
   "pygments_lexer": "ipython3",
   "version": "3.6.5"
  }
 },
 "nbformat": 4,
 "nbformat_minor": 2
}
